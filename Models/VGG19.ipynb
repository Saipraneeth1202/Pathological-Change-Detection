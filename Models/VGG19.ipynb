{
  "cells": [
    {
      "cell_type": "markdown",
      "metadata": {
        "id": "lYj0UMaNrYDv"
      },
      "source": [
        "## VGG19 ##"
      ]
    },
    {
      "cell_type": "code",
      "execution_count": 1,
      "metadata": {
        "id": "3nYnYbvdrYEZ"
      },
      "outputs": [
        {
          "name": "stdout",
          "output_type": "stream",
          "text": [
            "WARNING:tensorflow:From C:\\Users\\MEDHA TRUST\\AppData\\Roaming\\Python\\Python310\\site-packages\\keras\\src\\losses.py:2976: The name tf.losses.sparse_softmax_cross_entropy is deprecated. Please use tf.compat.v1.losses.sparse_softmax_cross_entropy instead.\n",
            "\n"
          ]
        }
      ],
      "source": [
        "#imports\n",
        "from tensorflow.keras.layers import Conv2D, MaxPooling2D, AveragePooling2D, Flatten, Dense,Dropout\n",
        "from tensorflow.keras.preprocessing.image import ImageDataGenerator\n",
        "from tensorflow.keras.models import Sequential, load_model\n",
        "import matplotlib.pyplot as plt\n",
        "from sklearn.metrics import classification_report, confusion_matrix, precision_recall_fscore_support, jaccard_score\n",
        "import seaborn as sns\n",
        "from tensorflow.keras.models import load_model\n",
        "import numpy as np"
      ]
    },
    {
      "cell_type": "markdown",
      "metadata": {
        "id": "qAxJu8ltrYEf"
      },
      "source": [
        "### Data Loading and Transformation ###"
      ]
    },
    {
      "cell_type": "code",
      "execution_count": 14,
      "metadata": {
        "id": "U9Se4BdcrYEg"
      },
      "outputs": [],
      "source": [
        "#Data load\n",
        "#load the data from preprocessed data\n",
        "train_data_dir = 'Preprocessed_Data/train'\n",
        "test_data_dir = \"Preprocessed_Data/test\"\n",
        "img_width, img_height = 224, 224\n",
        "batch_size = 32\n",
        "num_classes = 3"
      ]
    },
    {
      "cell_type": "code",
      "execution_count": 15,
      "metadata": {
        "id": "QoEVPjGCrYEi"
      },
      "outputs": [],
      "source": [
        "# Data Augmentation and Normalization for Training\n",
        "train_datagen = ImageDataGenerator(\n",
        "    rescale=1.0 / 255,\n",
        "    shear_range=0.2,\n",
        "    zoom_range=0.2,\n",
        "    horizontal_flip=True)\n",
        "\n",
        "# Normalization for Testing\n",
        "test_datagen = ImageDataGenerator(rescale=1.0 / 255)"
      ]
    },
    {
      "cell_type": "code",
      "execution_count": 16,
      "metadata": {
        "colab": {
          "base_uri": "https://localhost:8080/"
        },
        "id": "2P2GoXJlrYEk",
        "outputId": "ea3adbb3-7600-42ee-9aaa-8b4d0b16b62a"
      },
      "outputs": [
        {
          "name": "stdout",
          "output_type": "stream",
          "text": [
            "Found 5144 images belonging to 3 classes.\n",
            "Found 1288 images belonging to 3 classes.\n"
          ]
        }
      ],
      "source": [
        "# Load and Augment Training Data\n",
        "train_generator = train_datagen.flow_from_directory(\n",
        "    train_data_dir,\n",
        "    target_size=(img_width, img_height),\n",
        "    batch_size=batch_size,\n",
        "    class_mode='categorical')\n",
        "\n",
        "# Load Test Data\n",
        "test_generator = test_datagen.flow_from_directory(\n",
        "    test_data_dir,\n",
        "    target_size=(img_width, img_height),\n",
        "    batch_size=batch_size,\n",
        "    class_mode='categorical')"
      ]
    },
    {
      "cell_type": "code",
      "execution_count": 17,
      "metadata": {
        "id": "SfAgyfMzrYEn"
      },
      "outputs": [],
      "source": [
        "# Data Augmentation and Normalization for Training\n",
        "train_datagen = ImageDataGenerator(\n",
        "    rescale=1.0 / 255,\n",
        "    shear_range=0.2,\n",
        "    zoom_range=0.2,\n",
        "    horizontal_flip=True)\n",
        "\n",
        "# Normalization for Testing\n",
        "test_datagen = ImageDataGenerator(rescale=1.0 / 255)"
      ]
    },
    {
      "cell_type": "markdown",
      "metadata": {
        "id": "04QgzPXlrYEp"
      },
      "source": [
        "### Model Architecture ###"
      ]
    },
    {
      "cell_type": "code",
      "execution_count": 7,
      "metadata": {
        "id": "ltVmh-2ArYEq"
      },
      "outputs": [],
      "source": [
        "#model architecture vgg19\n",
        "def VGG19():\n",
        "    model = Sequential()\n",
        "\n",
        "    # Block 1\n",
        "    model.add(Conv2D(64, (3, 3), activation='relu', padding='same', input_shape=(224, 224, 3)))\n",
        "    model.add(Conv2D(64, (3, 3), activation='relu', padding='same'))\n",
        "    model.add(MaxPooling2D((2, 2), strides=(2, 2)))\n",
        "\n",
        "    # Block 2\n",
        "    model.add(Conv2D(128, (3, 3), activation='relu', padding='same'))\n",
        "    model.add(Conv2D(128, (3, 3), activation='relu', padding='same'))\n",
        "    model.add(MaxPooling2D((2, 2), strides=(2, 2)))\n",
        "\n",
        "    # Block 3\n",
        "    model.add(Conv2D(256, (3, 3), activation='relu', padding='same'))\n",
        "    model.add(Conv2D(256, (3, 3), activation='relu', padding='same'))\n",
        "    model.add(Conv2D(256, (3, 3), activation='relu', padding='same'))\n",
        "    model.add(Conv2D(256, (3, 3), activation='relu', padding='same'))\n",
        "    model.add(MaxPooling2D((2, 2), strides=(2, 2)))\n",
        "\n",
        "    # Block 4\n",
        "    model.add(Conv2D(512, (3, 3), activation='relu', padding='same'))\n",
        "    model.add(Conv2D(512, (3, 3), activation='relu', padding='same'))\n",
        "    model.add(Conv2D(512, (3, 3), activation='relu', padding='same'))\n",
        "    model.add(Conv2D(512, (3, 3), activation='relu', padding='same'))\n",
        "    model.add(MaxPooling2D((2, 2), strides=(2, 2)))\n",
        "\n",
        "    # Block 5\n",
        "    model.add(Conv2D(512, (3, 3), activation='relu', padding='same'))\n",
        "    model.add(Conv2D(512, (3, 3), activation='relu', padding='same'))\n",
        "    model.add(Conv2D(512, (3, 3), activation='relu', padding='same'))\n",
        "    model.add(Conv2D(512, (3, 3), activation='relu', padding='same'))\n",
        "    model.add(MaxPooling2D((2, 2), strides=(2, 2)))\n",
        "\n",
        "    # Flatten and fully connected layers\n",
        "    model.add(Flatten())\n",
        "    model.add(Dense(4096, activation='relu'))\n",
        "    model.add(Dropout(0.5))\n",
        "    model.add(Dense(4096, activation='relu'))\n",
        "    model.add(Dropout(0.5))\n",
        "    model.add(Dense(3, activation='softmax'))\n",
        "\n",
        "    return model"
      ]
    },
    {
      "cell_type": "code",
      "execution_count": 8,
      "metadata": {
        "colab": {
          "base_uri": "https://localhost:8080/"
        },
        "id": "lKUDWMJHrYEs",
        "outputId": "579f20b3-b61e-48bc-946a-8e44fb9655b6"
      },
      "outputs": [
        {
          "name": "stdout",
          "output_type": "stream",
          "text": [
            "Model: \"sequential\"\n",
            "_________________________________________________________________\n",
            " Layer (type)                Output Shape              Param #   \n",
            "=================================================================\n",
            " conv2d (Conv2D)             (None, 224, 224, 64)      1792      \n",
            "                                                                 \n",
            " conv2d_1 (Conv2D)           (None, 224, 224, 64)      36928     \n",
            "                                                                 \n",
            " max_pooling2d (MaxPooling2  (None, 112, 112, 64)      0         \n",
            " D)                                                              \n",
            "                                                                 \n",
            " conv2d_2 (Conv2D)           (None, 112, 112, 128)     73856     \n",
            "                                                                 \n",
            " conv2d_3 (Conv2D)           (None, 112, 112, 128)     147584    \n",
            "                                                                 \n",
            " max_pooling2d_1 (MaxPoolin  (None, 56, 56, 128)       0         \n",
            " g2D)                                                            \n",
            "                                                                 \n",
            " conv2d_4 (Conv2D)           (None, 56, 56, 256)       295168    \n",
            "                                                                 \n",
            " conv2d_5 (Conv2D)           (None, 56, 56, 256)       590080    \n",
            "                                                                 \n",
            " conv2d_6 (Conv2D)           (None, 56, 56, 256)       590080    \n",
            "                                                                 \n",
            " conv2d_7 (Conv2D)           (None, 56, 56, 256)       590080    \n",
            "                                                                 \n",
            " max_pooling2d_2 (MaxPoolin  (None, 28, 28, 256)       0         \n",
            " g2D)                                                            \n",
            "                                                                 \n",
            " conv2d_8 (Conv2D)           (None, 28, 28, 512)       1180160   \n",
            "                                                                 \n",
            " conv2d_9 (Conv2D)           (None, 28, 28, 512)       2359808   \n",
            "                                                                 \n",
            " conv2d_10 (Conv2D)          (None, 28, 28, 512)       2359808   \n",
            "                                                                 \n",
            " conv2d_11 (Conv2D)          (None, 28, 28, 512)       2359808   \n",
            "                                                                 \n",
            " max_pooling2d_3 (MaxPoolin  (None, 14, 14, 512)       0         \n",
            " g2D)                                                            \n",
            "                                                                 \n",
            " conv2d_12 (Conv2D)          (None, 14, 14, 512)       2359808   \n",
            "                                                                 \n",
            " conv2d_13 (Conv2D)          (None, 14, 14, 512)       2359808   \n",
            "                                                                 \n",
            " conv2d_14 (Conv2D)          (None, 14, 14, 512)       2359808   \n",
            "                                                                 \n",
            " conv2d_15 (Conv2D)          (None, 14, 14, 512)       2359808   \n",
            "                                                                 \n",
            " max_pooling2d_4 (MaxPoolin  (None, 7, 7, 512)         0         \n",
            " g2D)                                                            \n",
            "                                                                 \n",
            " flatten (Flatten)           (None, 25088)             0         \n",
            "                                                                 \n",
            " dense (Dense)               (None, 4096)              102764544 \n",
            "                                                                 \n",
            " dropout (Dropout)           (None, 4096)              0         \n",
            "                                                                 \n",
            " dense_1 (Dense)             (None, 4096)              16781312  \n",
            "                                                                 \n",
            " dropout_1 (Dropout)         (None, 4096)              0         \n",
            "                                                                 \n",
            " dense_2 (Dense)             (None, 3)                 12291     \n",
            "                                                                 \n",
            "=================================================================\n",
            "Total params: 139582531 (532.47 MB)\n",
            "Trainable params: 139582531 (532.47 MB)\n",
            "Non-trainable params: 0 (0.00 Byte)\n",
            "_________________________________________________________________\n"
          ]
        }
      ],
      "source": [
        "# Create the VGG19 model\n",
        "vgg19_model = VGG19()\n",
        "\n",
        "# Display model summary\n",
        "vgg19_model.summary()"
      ]
    },
    {
      "cell_type": "markdown",
      "metadata": {
        "id": "ChKeWUlKrYEv"
      },
      "source": [
        "### Model Training ###"
      ]
    },
    {
      "cell_type": "code",
      "execution_count": 9,
      "metadata": {
        "id": "su9Dfpt1s7ku"
      },
      "outputs": [],
      "source": [
        "# Compile the model\n",
        "vgg19_model.compile(optimizer=\"adam\", loss='categorical_crossentropy', metrics=['accuracy', 'Precision', 'Recall'])"
      ]
    },
    {
      "cell_type": "code",
      "execution_count": 10,
      "metadata": {
        "colab": {
          "base_uri": "https://localhost:8080/"
        },
        "id": "7eWmEPyMrYEw",
        "outputId": "a87369af-338f-48a3-fc41-c3cf8130e1a1"
      },
      "outputs": [
        {
          "name": "stdout",
          "output_type": "stream",
          "text": [
            "Epoch 1/20\n",
            "160/160 [==============================] - 1416s 9s/step - loss: 0.8753 - accuracy: 0.6423 - precision: 0.6596 - recall: 0.6118 - val_loss: 0.8503 - val_accuracy: 0.6641 - val_precision: 0.6641 - val_recall: 0.6641\n",
            "Epoch 2/20\n",
            "160/160 [==============================] - 106s 660ms/step - loss: 0.8388 - accuracy: 0.6638 - precision: 0.6638 - recall: 0.6638 - val_loss: 0.8342 - val_accuracy: 0.6648 - val_precision: 0.6648 - val_recall: 0.6648\n",
            "Epoch 3/20\n",
            "160/160 [==============================] - 107s 668ms/step - loss: 0.8376 - accuracy: 0.6636 - precision: 0.6636 - recall: 0.6636 - val_loss: 0.8395 - val_accuracy: 0.6633 - val_precision: 0.6633 - val_recall: 0.6633\n",
            "Epoch 4/20\n",
            "160/160 [==============================] - 107s 664ms/step - loss: 0.8366 - accuracy: 0.6638 - precision: 0.6638 - recall: 0.6638 - val_loss: 0.8336 - val_accuracy: 0.6641 - val_precision: 0.6641 - val_recall: 0.6641\n",
            "Epoch 5/20\n",
            "160/160 [==============================] - 106s 663ms/step - loss: 0.8364 - accuracy: 0.6628 - precision: 0.6628 - recall: 0.6628 - val_loss: 0.8352 - val_accuracy: 0.6633 - val_precision: 0.6633 - val_recall: 0.6633\n",
            "Epoch 6/20\n",
            "160/160 [==============================] - 111s 689ms/step - loss: 0.8369 - accuracy: 0.6636 - precision: 0.6636 - recall: 0.6636 - val_loss: 0.8376 - val_accuracy: 0.6625 - val_precision: 0.6625 - val_recall: 0.6625\n",
            "Epoch 7/20\n",
            "160/160 [==============================] - 107s 668ms/step - loss: 0.8341 - accuracy: 0.6652 - precision: 0.6652 - recall: 0.6652 - val_loss: 0.8381 - val_accuracy: 0.6625 - val_precision: 0.6625 - val_recall: 0.6625\n",
            "Epoch 8/20\n",
            "160/160 [==============================] - 107s 665ms/step - loss: 0.8357 - accuracy: 0.6644 - precision: 0.6644 - recall: 0.6644 - val_loss: 0.8316 - val_accuracy: 0.6648 - val_precision: 0.6648 - val_recall: 0.6648\n",
            "Epoch 9/20\n",
            "160/160 [==============================] - 108s 671ms/step - loss: 0.8359 - accuracy: 0.6642 - precision: 0.6642 - recall: 0.6642 - val_loss: 0.8312 - val_accuracy: 0.6656 - val_precision: 0.6656 - val_recall: 0.6656\n",
            "Epoch 10/20\n",
            "160/160 [==============================] - 108s 674ms/step - loss: 0.8380 - accuracy: 0.6630 - precision: 0.6630 - recall: 0.6630 - val_loss: 0.8385 - val_accuracy: 0.6633 - val_precision: 0.6633 - val_recall: 0.6633\n",
            "Epoch 11/20\n",
            "160/160 [==============================] - 108s 672ms/step - loss: 0.8368 - accuracy: 0.6634 - precision: 0.6634 - recall: 0.6634 - val_loss: 0.8356 - val_accuracy: 0.6641 - val_precision: 0.6641 - val_recall: 0.6641\n",
            "Epoch 12/20\n",
            "160/160 [==============================] - 107s 665ms/step - loss: 0.8355 - accuracy: 0.6636 - precision: 0.6636 - recall: 0.6636 - val_loss: 0.8324 - val_accuracy: 0.6648 - val_precision: 0.6648 - val_recall: 0.6648\n",
            "Epoch 13/20\n",
            "160/160 [==============================] - 106s 659ms/step - loss: 0.8366 - accuracy: 0.6634 - precision: 0.6634 - recall: 0.6634 - val_loss: 0.8368 - val_accuracy: 0.6617 - val_precision: 0.6617 - val_recall: 0.6617\n",
            "Epoch 14/20\n",
            "160/160 [==============================] - 107s 667ms/step - loss: 0.8362 - accuracy: 0.6636 - precision: 0.6636 - recall: 0.6636 - val_loss: 0.8343 - val_accuracy: 0.6641 - val_precision: 0.6641 - val_recall: 0.6641\n",
            "Epoch 15/20\n",
            "160/160 [==============================] - 107s 668ms/step - loss: 0.8368 - accuracy: 0.6628 - precision: 0.6628 - recall: 0.6628 - val_loss: 0.8367 - val_accuracy: 0.6625 - val_precision: 0.6625 - val_recall: 0.6625\n",
            "Epoch 16/20\n",
            "160/160 [==============================] - 107s 668ms/step - loss: 0.8374 - accuracy: 0.6630 - precision: 0.6630 - recall: 0.6630 - val_loss: 0.8335 - val_accuracy: 0.6641 - val_precision: 0.6641 - val_recall: 0.6641\n",
            "Epoch 17/20\n",
            "160/160 [==============================] - 106s 664ms/step - loss: 0.8365 - accuracy: 0.6636 - precision: 0.6636 - recall: 0.6636 - val_loss: 0.8371 - val_accuracy: 0.6625 - val_precision: 0.6625 - val_recall: 0.6625\n",
            "Epoch 18/20\n",
            "160/160 [==============================] - 107s 666ms/step - loss: 0.8358 - accuracy: 0.6630 - precision: 0.6630 - recall: 0.6630 - val_loss: 0.8360 - val_accuracy: 0.6633 - val_precision: 0.6633 - val_recall: 0.6633\n",
            "Epoch 19/20\n",
            "160/160 [==============================] - 108s 670ms/step - loss: 0.8366 - accuracy: 0.6632 - precision: 0.6632 - recall: 0.6632 - val_loss: 0.8352 - val_accuracy: 0.6641 - val_precision: 0.6641 - val_recall: 0.6641\n",
            "Epoch 20/20\n",
            "160/160 [==============================] - 108s 669ms/step - loss: 0.8373 - accuracy: 0.6628 - precision: 0.6628 - recall: 0.6628 - val_loss: 0.8364 - val_accuracy: 0.6625 - val_precision: 0.6625 - val_recall: 0.6625\n"
          ]
        }
      ],
      "source": [
        "#train vgg19\n",
        "import tensorflow as tf\n",
        "epochs = 20\n",
        "with tf.device('/GPU:0'):  # Specify GPU device\n",
        "  history_vgg19 = vgg19_model.fit(\n",
        "      train_generator,\n",
        "      steps_per_epoch=train_generator.samples // batch_size,\n",
        "      epochs=epochs,\n",
        "      validation_data=test_generator,\n",
        "      validation_steps=test_generator.samples // batch_size)"
      ]
    },
    {
      "cell_type": "code",
      "execution_count": 11,
      "metadata": {
        "id": "6JPEatBZrYEy"
      },
      "outputs": [],
      "source": [
        "#vgg19_model.save('D:\\8th_semester\\DL\\DL_Project\\models\\vgg_model')"
      ]
    },
    {
      "cell_type": "code",
      "execution_count": 19,
      "metadata": {
        "id": "GJ6t5icOrYE0"
      },
      "outputs": [
        {
          "name": "stdout",
          "output_type": "stream",
          "text": [
            "WARNING:tensorflow:From C:\\Users\\MEDHA TRUST\\AppData\\Roaming\\Python\\Python310\\site-packages\\keras\\src\\saving\\legacy\\saved_model\\load.py:107: The name tf.gfile.Exists is deprecated. Please use tf.io.gfile.exists instead.\n",
            "\n",
            "WARNING:tensorflow:From C:\\Users\\MEDHA TRUST\\AppData\\Roaming\\Python\\Python310\\site-packages\\keras\\src\\layers\\pooling\\max_pooling2d.py:161: The name tf.nn.max_pool is deprecated. Please use tf.nn.max_pool2d instead.\n",
            "\n",
            "WARNING:tensorflow:From C:\\Users\\MEDHA TRUST\\AppData\\Roaming\\Python\\Python310\\site-packages\\keras\\src\\utils\\tf_utils.py:585: The name tf.executing_eagerly_outside_functions is deprecated. Please use tf.compat.v1.executing_eagerly_outside_functions instead.\n",
            "\n"
          ]
        }
      ],
      "source": [
        "loaded_vgg19 = load_model(r\"D:\\8th_semester\\DL\\DL_Project\\models\\vgg_model\")"
      ]
    },
    {
      "cell_type": "markdown",
      "metadata": {
        "id": "Vbkdh21BrYE1"
      },
      "source": [
        "### Training Visualization ###"
      ]
    },
    {
      "cell_type": "code",
      "execution_count": 13,
      "metadata": {
        "colab": {
          "base_uri": "https://localhost:8080/",
          "height": 564
        },
        "id": "qp19jZfErYE1",
        "outputId": "6994f28f-687c-4729-cb50-f844a19362b8"
      },
      "outputs": [
        {
          "data": {
            "image/png": "[encoded data removed]",
            "text/plain": [
              "<Figure size 1200x600 with 1 Axes>"
            ]
          },
          "metadata": {},
          "output_type": "display_data"
        }
      ],
      "source": [
        "# Retrieve a list of training and validation losses and accuracies\n",
        "train_loss = history_vgg19.history['loss']\n",
        "val_loss = history_vgg19.history['val_loss']\n",
        "\n",
        "\n",
        "# Number of epochs\n",
        "epochs_range = range(1, epochs + 1)\n",
        "\n",
        "# Create the plots for training and validation loss\n",
        "plt.figure(figsize=(12, 6))\n",
        "plt.plot(epochs_range, train_loss, 'r', label='Training Loss')\n",
        "plt.plot(epochs_range, val_loss, 'b', label='Validation Loss')\n",
        "plt.title('Training and Validation Loss')\n",
        "plt.xlabel('Epochs')\n",
        "plt.ylabel('Loss')\n",
        "plt.legend()\n",
        "plt.show()"
      ]
    },
    {
      "cell_type": "code",
      "execution_count": 14,
      "metadata": {
        "colab": {
          "base_uri": "https://localhost:8080/",
          "height": 564
        },
        "id": "csQjiXU_rYE2",
        "outputId": "064ff688-3a65-489f-b00a-2cc88c01979b"
      },
      "outputs": [
        {
          "data": {
            "image/png": "[encoded data removed]",
            "text/plain": [
              "<Figure size 1200x600 with 1 Axes>"
            ]
          },
          "metadata": {},
          "output_type": "display_data"
        }
      ],
      "source": [
        "train_accuracy = history_vgg19.history['accuracy']\n",
        "val_accuracy = history_vgg19.history['val_accuracy']\n",
        "\n",
        "# Create the plots for training and validation accuracy\n",
        "plt.figure(figsize=(12, 6))\n",
        "plt.plot(epochs_range, train_accuracy, 'r', label='Training Accuracy')\n",
        "plt.plot(epochs_range, val_accuracy, 'b', label='Validation Accuracy')\n",
        "plt.title('Training and Validation Accuracy')\n",
        "plt.xlabel('Epochs')\n",
        "plt.ylabel('Accuracy')\n",
        "plt.legend()\n",
        "plt.show()"
      ]
    },
    {
      "cell_type": "markdown",
      "metadata": {
        "id": "qqsqbc62rYE3"
      },
      "source": [
        "### Predict, Test and Evaluate ###"
      ]
    },
    {
      "cell_type": "code",
      "execution_count": 21,
      "metadata": {},
      "outputs": [
        {
          "name": "stdout",
          "output_type": "stream",
          "text": [
            "41/41 [==============================] - 204s 5s/step - loss: 0.8345 - accuracy: 0.6638\n"
          ]
        }
      ],
      "source": [
        "results = loaded_vgg19.evaluate(test_generator)"
      ]
    },
    {
      "cell_type": "code",
      "execution_count": 23,
      "metadata": {
        "colab": {
          "base_uri": "https://localhost:8080/"
        },
        "id": "Jmq1SizBrYE3",
        "outputId": "264374ec-c216-42f6-b410-f2b299cfcc37"
      },
      "outputs": [
        {
          "name": "stdout",
          "output_type": "stream",
          "text": [
            "Test Loss: 0.83450847864151\n",
            "Test Accuracy: 0.6638198494911194\n",
            "41/41 [==============================] - 180s 4s/step\n",
            "Predicted Classes =  [2 2 2 ... 2 2 2]\n",
            "Classification Report:\n",
            "               precision    recall  f1-score   support\n",
            "\n",
            "  COVID19_RGB       0.00      0.00      0.00       116\n",
            "   Normal_RGB       0.00      0.00      0.00       317\n",
            "PNEUMONIA_RGB       0.66      1.00      0.80       855\n",
            "\n",
            "     accuracy                           0.66      1288\n",
            "    macro avg       0.22      0.33      0.27      1288\n",
            " weighted avg       0.44      0.66      0.53      1288\n",
            "\n",
            "Confusion Matrix:\n",
            "[[  0   0 116]\n",
            " [  0   0 317]\n",
            " [  0   0 855]]\n"
          ]
        },
        {
          "name": "stderr",
          "output_type": "stream",
          "text": [
            "C:\\Users\\MEDHA TRUST\\AppData\\Roaming\\Python\\Python310\\site-packages\\sklearn\\metrics\\_classification.py:1497: UndefinedMetricWarning: Precision is ill-defined and being set to 0.0 in labels with no predicted samples. Use `zero_division` parameter to control this behavior.\n",
            "  _warn_prf(average, modifier, f\"{metric.capitalize()} is\", len(result))\n",
            "C:\\Users\\MEDHA TRUST\\AppData\\Roaming\\Python\\Python310\\site-packages\\sklearn\\metrics\\_classification.py:1497: UndefinedMetricWarning: Precision is ill-defined and being set to 0.0 in labels with no predicted samples. Use `zero_division` parameter to control this behavior.\n",
            "  _warn_prf(average, modifier, f\"{metric.capitalize()} is\", len(result))\n",
            "C:\\Users\\MEDHA TRUST\\AppData\\Roaming\\Python\\Python310\\site-packages\\sklearn\\metrics\\_classification.py:1497: UndefinedMetricWarning: Precision is ill-defined and being set to 0.0 in labels with no predicted samples. Use `zero_division` parameter to control this behavior.\n",
            "  _warn_prf(average, modifier, f\"{metric.capitalize()} is\", len(result))\n"
          ]
        }
      ],
      "source": [
        "# Test the Model\n",
        "test_loss, test_accuracy= results\n",
        "print(\"Test Loss:\", test_loss)\n",
        "print(\"Test Accuracy:\", test_accuracy)\n",
        "\n",
        "# Predict\n",
        "y_true = test_generator.classes\n",
        "y_pred = loaded_vgg19.predict(test_generator)\n",
        "\n",
        "# Convert predictions to class labels\n",
        "y_pred_classes = np.argmax(y_pred, axis=1)\n",
        "print(\"Predicted Classes = \" ,y_pred_classes)\n",
        "\n",
        "#Evaluate the Model\n",
        "print(\"Classification Report:\")\n",
        "print(classification_report(y_true, y_pred_classes, target_names=list(test_generator.class_indices.keys())))\n",
        "\n",
        "# Generate a confusion matrix\n",
        "confusion_mat = confusion_matrix(y_true, y_pred_classes)\n",
        "print(\"Confusion Matrix:\")\n",
        "print(confusion_mat)"
      ]
    },
    {
      "cell_type": "code",
      "execution_count": 27,
      "metadata": {
        "colab": {
          "base_uri": "https://localhost:8080/"
        },
        "id": "52Bhsy2crYE4",
        "outputId": "c80ae7e4-f5a8-42fa-fd88-725cb5913651"
      },
      "outputs": [
        {
          "name": "stdout",
          "output_type": "stream",
          "text": [
            "Precision for each class: [0.         0.         0.66381988]\n",
            "Recall for each class: [0. 0. 1.]\n",
            "F1-Score for each class: [0.        0.        0.7979468]\n",
            "Jaccard Score for each class: [0.         0.         0.66381988]\n",
            "Type 1 Errors for each class: [  0   0 433]\n",
            "Type 2 Errors for each class: [116 317   0]\n"
          ]
        },
        {
          "name": "stderr",
          "output_type": "stream",
          "text": [
            "C:\\Users\\MEDHA TRUST\\AppData\\Roaming\\Python\\Python310\\site-packages\\sklearn\\metrics\\_classification.py:1497: UndefinedMetricWarning: Precision is ill-defined and being set to 0.0 in labels with no predicted samples. Use `zero_division` parameter to control this behavior.\n",
            "  _warn_prf(average, modifier, f\"{metric.capitalize()} is\", len(result))\n"
          ]
        }
      ],
      "source": [
        "\n",
        "# Calculate precision, recall, and F1-score for each class\n",
        "precision, recall, f1_score,_ = precision_recall_fscore_support(y_true, y_pred_classes)\n",
        "\n",
        "print(\"Precision for each class:\", precision)\n",
        "print(\"Recall for each class:\", recall)\n",
        "print(\"F1-Score for each class:\", f1_score)\n",
        "\n",
        "# Calculate Jaccard Score for each class\n",
        "jaccard_scores = jaccard_score(y_true, y_pred_classes, average=None)\n",
        "print(\"Jaccard Score for each class:\", jaccard_scores)\n",
        "\n",
        "# Calculate Type 1 error and Type 2 error for each class\n",
        "# Type 1 error (False Positives) - how many times a class was predicted but shouldn't have been\n",
        "type_1_errors = confusion_mat.sum(axis=0) - np.diag(confusion_mat)  # Column-wise sum minus the diagonal\n",
        "\n",
        "# Type 2 error (False Negatives) - how many times a class wasn't predicted but should have been\n",
        "type_2_errors = confusion_mat.sum(axis=1) - np.diag(confusion_mat)  # Row-wise sum minus the diagonal\n",
        "\n",
        "print(\"Type 1 Errors for each class:\", type_1_errors)\n",
        "print(\"Type 2 Errors for each class:\", type_2_errors)"
      ]
    },
    {
      "cell_type": "markdown",
      "metadata": {},
      "source": [
        "### New Image Prediction ###"
      ]
    },
    {
      "cell_type": "code",
      "execution_count": 28,
      "metadata": {},
      "outputs": [
        {
          "name": "stdout",
          "output_type": "stream",
          "text": [
            "Class Indices: {'COVID19_RGB': 0, 'NORMAL_RGB': 1, 'PNEUMONIA_RGB': 2}\n"
          ]
        }
      ],
      "source": [
        "#class to index mapping\n",
        "print(\"Class Indices:\", train_generator.class_indices)"
      ]
    },
    {
      "cell_type": "code",
      "execution_count": 35,
      "metadata": {},
      "outputs": [],
      "source": [
        "from tensorflow.keras.preprocessing.image import img_to_array, load_img\n",
        "# Load and preprocess the test image\n",
        "img_path = 'test_image.jpg'  \n",
        "img_width, img_height = 224, 224 \n",
        "image = load_img(img_path, target_size=(img_width, img_height)) \n",
        "image_array = img_to_array(image)  # Convert the image to an array\n",
        "image_array = image_array / 255.0  # Normalize the image\n",
        "image_array = np.expand_dims(image_array, axis=0)  # Add batch dimension"
      ]
    },
    {
      "cell_type": "code",
      "execution_count": 36,
      "metadata": {},
      "outputs": [
        {
          "name": "stdout",
          "output_type": "stream",
          "text": [
            "1/1 [==============================] - 0s 368ms/step\n",
            "2\n",
            "Pneumonia\n"
          ]
        }
      ],
      "source": [
        "# Make a prediction\n",
        "prediction = loaded_vgg19.predict(image_array)\n",
        "\n",
        "# Get the class with the highest probability\n",
        "predicted_class = np.argmax(prediction)\n",
        "print(predicted_class)\n",
        "if (predicted_class == 0):\n",
        "    print(\"COVID 19\")\n",
        "elif(predicted_class == 1):\n",
        "    print(\"Normal\")\n",
        "else:\n",
        "    print(\"Pneumonia\")"
      ]
    }
  ],
  "metadata": {
    "accelerator": "GPU",
    "colab": {
      "gpuType": "T4",
      "provenance": []
    },
    "kernelspec": {
      "display_name": "Python 3",
      "name": "python3"
    },
    "language_info": {
      "codemirror_mode": {
        "name": "ipython",
        "version": 3
      },
      "file_extension": ".py",
      "mimetype": "text/x-python",
      "name": "python",
      "nbconvert_exporter": "python",
      "pygments_lexer": "ipython3",
      "version": "3.10.0"
    }
  },
  "nbformat": 4,
  "nbformat_minor": 0
}
